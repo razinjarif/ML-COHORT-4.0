{
 "cells": [
  {
   "cell_type": "code",
   "execution_count": 45,
   "id": "422fbdcf-614d-4005-ae51-098a2c238720",
   "metadata": {},
   "outputs": [],
   "source": [
    "import numpy as np"
   ]
  },
  {
   "cell_type": "code",
   "execution_count": 50,
   "id": "332b2c1a-0e9d-4d5a-9aae-6dc87d27686b",
   "metadata": {},
   "outputs": [
    {
     "name": "stdout",
     "output_type": "stream",
     "text": [
      "Array a:\n",
      "Array b:\n",
      "[20 22 24 26 28 30 32 34 36 38 40 42 44 46 48 50 52 54]\n",
      "Reshape of c:\n"
     ]
    },
    {
     "data": {
      "text/plain": [
       "array([[20, 22, 24],\n",
       "       [26, 28, 30],\n",
       "       [32, 34, 36],\n",
       "       [38, 40, 42],\n",
       "       [44, 46, 48],\n",
       "       [50, 52, 54]])"
      ]
     },
     "execution_count": 50,
     "metadata": {},
     "output_type": "execute_result"
    }
   ],
   "source": [
    "print(\"Array a:\")\n",
    "a=np.arange(0,18)\n",
    "print(\"Array b:\")\n",
    "b=np.arange(20,38)\n",
    "c=a+b\n",
    "print(c)\n",
    "print(\"Reshape of c:\")\n",
    "c=c.reshape((6,3))\n",
    "c"
   ]
  },
  {
   "cell_type": "code",
   "execution_count": null,
   "id": "6c48dbdf-b5b6-4a25-89ae-65c433e1abc4",
   "metadata": {},
   "outputs": [],
   "source": []
  }
 ],
 "metadata": {
  "kernelspec": {
   "display_name": "Python 3 (ipykernel)",
   "language": "python",
   "name": "python3"
  },
  "language_info": {
   "codemirror_mode": {
    "name": "ipython",
    "version": 3
   },
   "file_extension": ".py",
   "mimetype": "text/x-python",
   "name": "python",
   "nbconvert_exporter": "python",
   "pygments_lexer": "ipython3",
   "version": "3.13.3"
  }
 },
 "nbformat": 4,
 "nbformat_minor": 5
}
