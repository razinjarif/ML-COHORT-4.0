{
 "cells": [
  {
   "cell_type": "code",
   "execution_count": 6,
   "id": "7de43261-9f8b-40ef-999f-ac3741f85aa1",
   "metadata": {},
   "outputs": [
    {
     "name": "stdout",
     "output_type": "stream",
     "text": [
      "Matrix\n",
      "matrix: [[ 7  8  9 10]\n",
      " [11 12 13 14]\n",
      " [15 16 17 18]]\n",
      "12\n",
      "(3, 4)\n",
      "Transpose\n",
      "Traspose: [[ 7 11 15]\n",
      " [ 8 12 16]\n",
      " [ 9 13 17]\n",
      " [10 14 18]]\n",
      "size: 12\n",
      "shape: (4, 3)\n"
     ]
    }
   ],
   "source": [
    "print(\"Matrix\")\n",
    "M=np.array([[ 7,  8,  9, 10],\n",
    " [11, 12, 13, 14],\n",
    " [15, 16, 17, 18]])\n",
    "print(\"matrix:\",M)\n",
    "print(M.size)\n",
    "print(M.shape)\n",
    "print(\"Transpose\")\n",
    "transpose_mat=M.T\n",
    "print(\"Traspose:\",transpose_mat)\n",
    "print(\"size:\",transpose_mat.size)\n",
    "print(\"shape:\",transpose_mat.shape)\n"
   ]
  },
  {
   "cell_type": "code",
   "execution_count": 7,
   "id": "74e733a3-e4e4-48c2-a2f4-dc0e933329d9",
   "metadata": {},
   "outputs": [],
   "source": [
    "import numpy as np"
   ]
  },
  {
   "cell_type": "code",
   "execution_count": 3,
   "id": "fbb14dac-b6c6-4b4a-be14-3f9608dd285e",
   "metadata": {},
   "outputs": [
    {
     "name": "stdout",
     "output_type": "stream",
     "text": [
      "array_A: [ 5 10 15 20 25]\n",
      "array_B: [ 2  4  6  8 10]\n",
      "sum_array: [ 7 14 21 28 35]\n"
     ]
    }
   ],
   "source": [
    "array_A = np.array([5, 10, 15, 20, 25])\n",
    "array_B = np.array([2, 4, 6, 8, 10])\n",
    "print(\"array_A:\", array_A)\n",
    "print(\"array_B:\", array_B)\n",
    "\n",
    "# 2. Add & Print\n",
    "sum_array = array_A + array_B\n",
    "print(\"sum_array:\", sum_array)"
   ]
  }
 ],
 "metadata": {
  "kernelspec": {
   "display_name": "Python 3",
   "language": "python",
   "name": "python3"
  },
  "language_info": {
   "codemirror_mode": {
    "name": "ipython",
    "version": 3
   },
   "file_extension": ".py",
   "mimetype": "text/x-python",
   "name": "python",
   "nbconvert_exporter": "python",
   "pygments_lexer": "ipython3",
   "version": "3.13.3"
  }
 },
 "nbformat": 4,
 "nbformat_minor": 5
}
